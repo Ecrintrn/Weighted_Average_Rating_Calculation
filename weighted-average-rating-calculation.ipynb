{
 "cells": [
  {
   "cell_type": "markdown",
   "metadata": {},
   "source": [
    "# Weighted Average Rating Calculation"
   ]
  },
  {
   "cell_type": "markdown",
   "metadata": {},
   "source": [
    "# Business Problem\n",
    "\n",
    "In this section, we will rank the datasets by their weighted average ratings."
   ]
  },
  {
   "cell_type": "markdown",
   "metadata": {},
   "source": [
    "# Import Necessary Libraries"
   ]
  },
  {
   "cell_type": "code",
   "execution_count": null,
   "metadata": {},
   "outputs": [],
   "source": [
    "import numpy as np\n",
    "import pandas as pd\n",
    "from sklearn.preprocessing import MinMaxScaler\n",
    "\n",
    "pd.set_option(\"display.max_columns\", None)\n",
    "pd.set_option(\"display.max_rows\", None)\n",
    "pd.set_option(\"display.width\", 500)\n",
    "pd.set_option(\"display.float_format\", lambda x: \"%.2f\" % x)"
   ]
  },
  {
   "cell_type": "markdown",
   "metadata": {},
   "source": [
    "# Import Dataset"
   ]
  },
  {
   "cell_type": "code",
   "execution_count": null,
   "metadata": {},
   "outputs": [],
   "source": [
    "df = pd.read_csv(\"course_reviews.csv\")\n",
    "df.head()"
   ]
  },
  {
   "cell_type": "markdown",
   "metadata": {},
   "source": [
    "# Genereal Information About Dataset"
   ]
  },
  {
   "cell_type": "code",
   "execution_count": null,
   "metadata": {},
   "outputs": [],
   "source": [
    "def check_df(dataframe, head=5):\n",
    "    print(20*\"#\", \"Head\", 20*\"#\")\n",
    "    print(dataframe.head(head))\n",
    "    print(20*\"#\", \"Tail\", 20*\"#\")\n",
    "    print(dataframe.tail(head))\n",
    "    print(20*\"#\", \"Shape\", 20*\"#\")\n",
    "    print(dataframe.shape)\n",
    "    print(20*\"#\", \"Type\", 20*\"#\")\n",
    "    print(dataframe.dtypes)\n",
    "    print(20*\"#\", \"NA\", 20*\"#\")\n",
    "    print(dataframe.isnull().sum())\n",
    "    print(20*\"#\", \"Quartiles\", 20*\"#\")\n",
    "    print(dataframe.describe([0, 0.01, 0.05, 0.10, 0.20, 0.30, 0.40, 0.50, 0.60, 0.70, 0.80, 0.90, 0.95, 0.99, 1]).T)"
   ]
  },
  {
   "cell_type": "code",
   "execution_count": null,
   "metadata": {},
   "outputs": [],
   "source": [
    "check_df(df)"
   ]
  },
  {
   "cell_type": "code",
   "execution_count": null,
   "metadata": {},
   "outputs": [],
   "source": [
    "df.info()"
   ]
  },
  {
   "cell_type": "code",
   "execution_count": null,
   "metadata": {},
   "outputs": [],
   "source": [
    "df.groupby(\"Questions Asked\").agg({\"Questions Asked\":\"count\",\n",
    "                                 \"Rating\": \"mean\"})"
   ]
  },
  {
   "cell_type": "code",
   "execution_count": null,
   "metadata": {
    "scrolled": true
   },
   "outputs": [],
   "source": [
    "df.head()"
   ]
  },
  {
   "cell_type": "markdown",
   "metadata": {},
   "source": [
    "# Data Preprocessing"
   ]
  },
  {
   "cell_type": "code",
   "execution_count": null,
   "metadata": {},
   "outputs": [],
   "source": [
    "df[\"Timestamp\"] = pd.to_datetime(df[\"Timestamp\"])"
   ]
  },
  {
   "cell_type": "code",
   "execution_count": null,
   "metadata": {},
   "outputs": [],
   "source": [
    "df[\"Timestamp\"].max()"
   ]
  },
  {
   "cell_type": "code",
   "execution_count": null,
   "metadata": {},
   "outputs": [],
   "source": [
    "current_date = pd.to_datetime(\"2021-02-10 0 0:00:00\")"
   ]
  },
  {
   "cell_type": "code",
   "execution_count": null,
   "metadata": {},
   "outputs": [],
   "source": [
    "df[\"days\"] = (current_date - df[\"Timestamp\"]).dt.days"
   ]
  },
  {
   "cell_type": "code",
   "execution_count": null,
   "metadata": {
    "scrolled": true
   },
   "outputs": [],
   "source": [
    "df.head()"
   ]
  },
  {
   "cell_type": "markdown",
   "metadata": {},
   "source": [
    "# Time based average"
   ]
  },
  {
   "cell_type": "code",
   "execution_count": null,
   "metadata": {},
   "outputs": [],
   "source": [
    "df.loc[df[\"days\"]<=30, \"Rating\"].mean() * 28/100 + \\\n",
    "df.loc[(df[\"days\"]>30) & (df[\"days\"]<=90), \"Rating\"].mean() * 26/100 + \\\n",
    "df.loc[(df[\"days\"]>90) & (df[\"days\"]<=180), \"Rating\"].mean() * 24/100 + \\\n",
    "df.loc[df[\"days\"]>180, \"Rating\"].mean() * 22/100"
   ]
  },
  {
   "cell_type": "code",
   "execution_count": null,
   "metadata": {},
   "outputs": [],
   "source": [
    "def time_based_weighted_average(dataframe, w1=28, w2=26, w3=24, w4=22):\n",
    "    return dataframe.loc[dataframe[\"days\"]<=30, \"Rating\"].mean() * w1/100 + \\\n",
    "    dataframe.loc[(dataframe[\"days\"]>30) & (dataframe[\"days\"]<=90), \"Rating\"].mean() * w2/100 + \\\n",
    "    dataframe.loc[(dataframe[\"days\"]>90) & (dataframe[\"days\"]<=180), \"Rating\"].mean() * w3/100 + \\\n",
    "    dataframe.loc[dataframe[\"days\"]>180, \"Rating\"].mean() * w4/100"
   ]
  },
  {
   "cell_type": "code",
   "execution_count": null,
   "metadata": {},
   "outputs": [],
   "source": [
    "time_based_weighted_average(df)"
   ]
  },
  {
   "cell_type": "code",
   "execution_count": null,
   "metadata": {},
   "outputs": [],
   "source": [
    "def time_based_weighted_average(dataframe, day_column=\"days\", rating_column=\"Rating\", w1=28, w2=26, w3=24, w4=22):\n",
    "    #preprocessing\n",
    "    dataframe[\"Timestamp\"] = pd.to_datetime(dataframe[\"Timestamp\"])\n",
    "    current_date = pd.to_datetime(\"2021-02-10 00:00:00\")\n",
    "    dataframe[day_column] = (current_date - dataframe[\"Timestamp\"]).dt.days\n",
    "    \n",
    "    # time based weighted average\n",
    "    return dataframe.loc[dataframe[day_column]<=30, rating_column].mean() * w1/100 + \\\n",
    "    dataframe.loc[(dataframe[day_column]>30) & (dataframe[day_column]<=90), rating_column].mean() * w2/100 + \\\n",
    "    dataframe.loc[(dataframe[day_column]>90) & (dataframe[day_column]<=180), rating_column].mean() * w3/100 + \\\n",
    "    dataframe.loc[dataframe[day_column]>180, rating_column].mean() * w4/100"
   ]
  },
  {
   "cell_type": "code",
   "execution_count": null,
   "metadata": {},
   "outputs": [],
   "source": [
    "time_based_weighted_average(df)"
   ]
  },
  {
   "cell_type": "code",
   "execution_count": null,
   "metadata": {},
   "outputs": [],
   "source": [
    "time_based_weighted_average(df, w1=30, w2=30, w3=20, w4=20)"
   ]
  },
  {
   "cell_type": "markdown",
   "metadata": {},
   "source": [
    "# User based average\n",
    "\n",
    "\n",
    "user_based_weighted_average = sum(similarity user * user preference) / sum(similarity)"
   ]
  },
  {
   "cell_type": "code",
   "execution_count": null,
   "metadata": {},
   "outputs": [],
   "source": [
    "df.groupby(\"Progress\").agg({\"Rating\":\"mean\"})"
   ]
  },
  {
   "cell_type": "code",
   "execution_count": null,
   "metadata": {},
   "outputs": [],
   "source": [
    "df.loc[df[\"Progress\"]<=10, \"Rating\"].mean() * 22/100 +\\\n",
    "df.loc[(df[\"Progress\"]>10) & (df[\"Progress\"]<=45), \"Rating\"].mean() *24/100 +\\\n",
    "df.loc[(df[\"Progress\"]>45) & (df[\"Progress\"]<=75), \"Rating\"].mean() * 26/100 +\\\n",
    "df.loc[df[\"Progress\"]>75, \"Rating\"].mean() *28/100"
   ]
  },
  {
   "cell_type": "code",
   "execution_count": null,
   "metadata": {},
   "outputs": [],
   "source": [
    "def user_based_weighted_average(dataframe, rating_column=\"Rating\", progress_column=\"Progress\", w1=22, w2=24, w3=26, w4=28):\n",
    "    return dataframe.loc[dataframe[progress_column]<=10, rating_column].mean() * w1/100 +\\\n",
    "    dataframe.loc[(dataframe[progress_column]>10) & (dataframe[progress_column]<=45), rating_column].mean() *w2/100 +\\\n",
    "    dataframe.loc[(dataframe[progress_column]>45) & (dataframe[progress_column]<=75), rating_column].mean() * w3/100 +\\\n",
    "    dataframe.loc[dataframe[progress_column]>75, rating_column].mean() *w4/100"
   ]
  },
  {
   "cell_type": "code",
   "execution_count": null,
   "metadata": {},
   "outputs": [],
   "source": [
    "user_based_weighted_average(df)"
   ]
  },
  {
   "cell_type": "code",
   "execution_count": null,
   "metadata": {},
   "outputs": [],
   "source": [
    "time_based_weighted_average(df) * 40/100 + user_based_weighted_average(df) * 60/100"
   ]
  },
  {
   "cell_type": "markdown",
   "metadata": {},
   "source": [
    "# Course weighted rating"
   ]
  },
  {
   "cell_type": "code",
   "execution_count": null,
   "metadata": {},
   "outputs": [],
   "source": [
    "def course_weighted_rating(dataframe, time_w=40, user_w=60):\n",
    "    return time_based_weighted_average(dataframe) * time_w/100 + user_based_weighted_average(dataframe) * user_w/100"
   ]
  },
  {
   "cell_type": "code",
   "execution_count": null,
   "metadata": {},
   "outputs": [],
   "source": [
    "course_weighted_rating(df)"
   ]
  },
  {
   "cell_type": "markdown",
   "metadata": {},
   "source": [
    "# Pipeline"
   ]
  },
  {
   "cell_type": "code",
   "execution_count": null,
   "metadata": {},
   "outputs": [],
   "source": [
    "def pipeline_average(dataframe, time_w=40, user_w=60, day_column=\"days\", progress_column=\"Progress\", rating_column=\"Rating\", tw1=28, tw2=26, tw3=24, tw4=22,  uw1=22, uw2=24, uw3=26, uw4=28):\n",
    "        #preprocessing\n",
    "    dataframe[\"Timestamp\"] = pd.to_datetime(dataframe[\"Timestamp\"])\n",
    "    current_date = pd.to_datetime(\"2021-02-10 00:00:00\")\n",
    "    dataframe[day_column] = (current_date - dataframe[\"Timestamp\"]).dt.days\n",
    "    \n",
    "    # time based weighted average\n",
    "    time_based_avg = dataframe.loc[dataframe[day_column]<=30, rating_column].mean() * tw1/100 + \\\n",
    "    dataframe.loc[(dataframe[day_column]>30) & (dataframe[day_column]<=90), rating_column].mean() * tw2/100 + \\\n",
    "    dataframe.loc[(dataframe[day_column]>90) & (dataframe[day_column]<=180), rating_column].mean() * tw3/100 + \\\n",
    "    dataframe.loc[dataframe[day_column]>180, rating_column].mean() * tw4/100\n",
    "    \n",
    "    # user based weighted average\n",
    "    user_based_average = dataframe.loc[dataframe[progress_column]<=10, rating_column].mean() * uw1/100 +\\\n",
    "    dataframe.loc[(dataframe[progress_column]>10) & (dataframe[progress_column]<=45), rating_column].mean() * uw2/100 +\\\n",
    "    dataframe.loc[(dataframe[progress_column]>45) & (dataframe[progress_column]<=75), rating_column].mean() * uw3/100 +\\\n",
    "    dataframe.loc[dataframe[progress_column]>75, rating_column].mean() * uw4/100\n",
    "    \n",
    "    # return course weighted rating\n",
    "    return time_based_avg * time_w/100 + user_based_average * user_w/100"
   ]
  },
  {
   "cell_type": "code",
   "execution_count": null,
   "metadata": {},
   "outputs": [],
   "source": [
    "pipeline_average(df)"
   ]
  }
 ],
 "metadata": {
  "kaggle": {
   "accelerator": "none",
   "dataSources": [
    {
     "datasetId": 5661931,
     "sourceId": 9342527,
     "sourceType": "datasetVersion"
    }
   ],
   "dockerImageVersionId": 30761,
   "isGpuEnabled": false,
   "isInternetEnabled": true,
   "language": "python",
   "sourceType": "notebook"
  },
  "kernelspec": {
   "display_name": "Python 3 (ipykernel)",
   "language": "python",
   "name": "python3"
  },
  "language_info": {
   "codemirror_mode": {
    "name": "ipython",
    "version": 3
   },
   "file_extension": ".py",
   "mimetype": "text/x-python",
   "name": "python",
   "nbconvert_exporter": "python",
   "pygments_lexer": "ipython3",
   "version": "3.12.4"
  }
 },
 "nbformat": 4,
 "nbformat_minor": 4
}
